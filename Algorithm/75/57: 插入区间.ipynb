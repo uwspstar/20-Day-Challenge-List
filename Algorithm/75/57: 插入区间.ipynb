### LeetCode 57: 插入区间 (Insert Interval)

#### 问题描述
给定一个非重叠的、按照区间起始位置排序的区间列表，并插入一个新的区间到列表中（确保列表中的区间仍然有序且不重叠，即合并必要的区间）。如果有必要，可以合并新的区间。

**示例：**
```plaintext
输入：intervals = [[1,3],[6,9]], newInterval = [2,5]
输出：[[1,5],[6,9]]
解释：区间 [2,5] 插入后，与 [1,3] 合并成了 [1,5]。
```

#### 思路
我们可以通过遍历已有的 `intervals` 来确定如何插入 `newInterval`。具体步骤如下：

1. 遍历 `intervals`，判断 `newInterval` 相对于当前区间 `intervals[i]` 的位置：
   - 如果 `newInterval` 的结束位置小于当前区间 `intervals[i]` 的起始位置，说明 `newInterval` 与后续的所有区间都不重叠，此时可以直接将 `newInterval` 插入到 `res` 中，并返回 `res` 与剩余区间 `intervals[i:]` 的合并结果。
   - 如果 `newInterval` 的起始位置大于当前区间 `intervals[i]` 的结束位置，说明 `newInterval` 与当前区间不重叠，可以将当前区间加入结果 `res` 中。
   - 否则，`newInterval` 与当前区间重叠，我们需要合并它们，并更新 `newInterval` 的起始和结束位置为 `newInterval` 和 `intervals[i]` 的起始和结束位置的最小值与最大值。

2. 遍历完成后，将 `newInterval` 加入 `res` 中，并返回结果。

### 实现代码
```python
from typing import List

class Solution:
    def insert(self, intervals: List[List[int]], newInterval: List[int]) -> List[List[int]]:
        # 初始化结果列表
        res = []
        
        # 遍历所有区间
        for i in range(len(intervals)):
            # 如果新区间的结束时间小于当前区间的开始时间，则直接将新区间加入结果列表，并返回结果
            if newInterval[1] < intervals[i][0]:
                res.append(newInterval)
                return res + intervals[i:]
            
            # 如果新区间的开始时间大于当前区间的结束时间，则当前区间没有重叠，可以加入结果列表
            elif newInterval[0] > intervals[i][1]:
                res.append(intervals[i])
            
            # 否则，新区间和当前区间有重叠，合并两个区间
            else:
                newInterval = [
                    min(newInterval[0], intervals[i][0]),  # 更新新区间的起始位置
                    max(newInterval[1], intervals[i][1])   # 更新新区间的结束位置
                ]
        
        # 将合并后的新区间加入结果列表
        res.append(newInterval)
        return res
```

### 逐行解释
1. **初始化结果列表 `res`**：
   ```python
   res = []
   ```
   - 用于存储最终的合并区间结果。

2. **遍历所有区间**：
   ```python
   for i in range(len(intervals)):
   ```
   - 遍历 `intervals` 中的每个区间，检查 `newInterval` 与当前区间的位置关系。

3. **检查 `newInterval` 是否完全在当前区间的左侧**：
   ```python
   if newInterval[1] < intervals[i][0]:
       res.append(newInterval)
       return res + intervals[i:]
   ```
   - 如果 `newInterval` 的结束时间小于当前区间 `intervals[i]` 的起始时间，说明 `newInterval` 不会与任何后续区间重叠，可以将 `newInterval` 直接加入结果列表，并返回 `res` 与剩余区间 `intervals[i:]` 的合并结果。

4. **检查 `newInterval` 是否完全在当前区间的右侧**：
   ```python
   elif newInterval[0] > intervals[i][1]:
       res.append(intervals[i])
   ```
   - 如果 `newInterval` 的起始时间大于当前区间 `intervals[i]` 的结束时间，说明 `newInterval` 在当前区间右侧，当前区间加入结果列表中。

5. **合并重叠区间**：
   ```python
   else:
       newInterval = [
           min(newInterval[0], intervals[i][0]),  # 更新新区间的起始位置
           max(newInterval[1], intervals[i][1])   # 更新新区间的结束位置
       ]
   ```
   - 否则，`newInterval` 与当前区间存在重叠，需要将两个区间合并，更新 `newInterval` 的起始和结束位置为两个区间的起始和结束位置的最小值与最大值。

6. **将最终合并的 `newInterval` 加入结果列表**：
   ```python
   res.append(newInterval)
   return res
   ```
   - 遍历完成后，将 `newInterval` 加入结果列表，并返回最终的结果列表 `res`。

### 时间复杂度和空间复杂度分析
- **时间复杂度**：`O(n)`，其中 `n` 是输入区间的数量。我们只需遍历所有区间一次，因此时间复杂度为线性。
- **空间复杂度**：`O(n)`，用于存储最终的结果区间。

### 关键概念
- **区间合并**：通过判断 `newInterval` 和 `intervals` 中的每个区间的关系，可以快速地合并重叠的区间。
- **最小值和最大值**：合并两个重叠区间时，需要更新 `newInterval` 的起始位置和结束位置为最小值和最大值。

### 提示
- 注意处理空区间的情况，即 `intervals` 为空时，直接返回 `newInterval`。

### 警告
- 在判断是否重叠时，需要确保 `newInterval` 的起始时间和结束时间的更新是正确的，避免区间顺序出现问题。

### 五个类似的 LeetCode 问题
1. [LeetCode 56: 合并区间 (Merge Intervals)](https://leetcode.com/problems/merge-intervals/)
2. [LeetCode 986: 区间列表的交集 (Interval List Intersections)](https://leetcode.com/problems/interval-list-intersections/)
3. [LeetCode 252: 会议室 (Meeting Rooms)](https://leetcode.com/problems/meeting-rooms/)
4. [LeetCode 253: 会议室 II (Meeting Rooms II)](https://leetcode.com/problems/meeting-rooms-ii/)
5. [LeetCode 452: 用最少数量的箭引爆气球 (Minimum Number of Arrows to Burst Balloons)](https://leetcode.com/problems/minimum-number-of-arrows-to-burst-balloons/)

### 改进方案
#### 解法 1：双指针法
我们可以使用双指针方法，同时遍历 `intervals` 和 `newInterval` 来合并区间，进一步简化合并逻辑。

#### 解法 2：使用栈
在某些场景下，可以使用栈来处理区间合并，利用栈的先进后出的特点简化区间的合并过程。
