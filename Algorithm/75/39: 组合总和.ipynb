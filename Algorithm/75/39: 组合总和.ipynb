### LeetCode 39: 组合总和 (Combination Sum)

#### 问题描述
给定一个不含重复数字的数组 `candidates` 和一个目标值 `target`，找出 `candidates` 中所有可以使数字和为 `target` 的组合。

数组中的数字可以无限制重复被选取。你可以按任意顺序返回所有不同的组合。

**示例：**
```plaintext
输入：candidates = [2,3,6,7], target = 7
输出：[[2,2,3],[7]]
解释：
- 2 + 2 + 3 = 7
- 7 = 7
唯一的组合是 [[2,2,3],[7]]。
```

#### 思路
这个问题是典型的回溯算法应用场景，可以通过深度优先搜索（DFS）来解决。我们使用回溯法不断地尝试组合不同的候选数字，直到找到和为目标值的组合，或者超出目标值则停止该路径的搜索。

具体步骤如下：
1. 定义递归函数 `dfs(i, cur, total)`：
   - `i` 表示当前候选数组的索引。
   - `cur` 表示当前组合路径。
   - `total` 表示当前组合路径的和。
2. 当 `total` 等于 `target` 时，说明找到一个符合要求的组合，加入结果列表 `res` 中，并返回。
3. 当 `i` 超过候选数组的长度或者 `total` 超过 `target` 时，停止搜索该路径。
4. 选择当前元素 `nums[i]` 并递归调用 `dfs(i, cur, total + nums[i])`，表示可以重复选择该元素。
5. 回溯，将当前元素 `nums[i]` 移出组合路径，然后递归调用 `dfs(i + 1, cur, total)`，表示不选择当前元素，而是继续考虑下一个元素。
6. 返回所有符合要求的组合路径。

### 实现代码
```python
from typing import List

class Solution:
    def combinationSum(self, nums: List[int], target: int) -> List[List[int]]:
        # 初始化结果列表
        res = []

        # 定义深度优先搜索（DFS）递归函数
        def dfs(i, cur, total):
            # 如果当前路径总和等于目标值，则将当前组合加入结果中
            if total == target:
                res.append(cur.copy())  # 使用 cur.copy() 复制当前路径，避免后续修改影响
                return
            # 如果超出数组范围或者当前总和大于目标值，结束递归
            if i >= len(nums) or total > target:
                return
            
            # 选择当前元素，继续递归搜索
            cur.append(nums[i])
            dfs(i, cur, total + nums[i])  # 注意这里的 i 没有增加，表示可以重复使用当前元素
            cur.pop()  # 回溯，移除最后一个元素
            
            # 不选择当前元素，继续递归搜索
            dfs(i + 1, cur, total)  # 继续探索下一个元素

        # 从索引 0 开始搜索
        dfs(0, [], 0)
        return res
```

### 逐行解释
1. **初始化结果列表 `res`**：
   ```python
   res = []
   ```
   - 存储所有符合要求的组合路径。

2. **定义深度优先搜索（DFS）递归函数 `dfs(i, cur, total)`**：
   ```python
   def dfs(i, cur, total):
   ```
   - `i` 表示当前候选数组的索引。
   - `cur` 表示当前组合路径。
   - `total` 表示当前组合路径的和。

3. **当 `total` 等于 `target` 时，找到一个符合要求的组合**：
   ```python
   if total == target:
       res.append(cur.copy())
       return
   ```
   - 将当前组合路径 `cur` 加入结果列表 `res` 中，并返回。

4. **当 `i` 超出数组范围或 `total` 超过 `target` 时，停止搜索**：
   ```python
   if i >= len(nums) or total > target:
       return
   ```
   - 如果当前索引 `i` 超过候选数组的长度或者当前组合总和 `total` 超过目标值 `target`，直接返回，结束该路径的搜索。

5. **选择当前元素并递归搜索**：
   ```python
   cur.append(nums[i])
   dfs(i, cur, total + nums[i])
   cur.pop()
   ```
   - 选择当前元素 `nums[i]`，将其加入组合路径 `cur` 中，并继续递归调用 `dfs(i, cur, total + nums[i])`。
   - 递归调用完成后，回溯，将最后加入的元素移出组合路径 `cur`。

6. **不选择当前元素，继续递归搜索下一个元素**：
   ```python
   dfs(i + 1, cur, total)
   ```
   - 不选择当前元素，直接递归调用 `dfs(i + 1, cur, total)`，表示跳过当前元素，继续探索下一个元素。

7. **返回所有符合要求的组合路径**：
   ```python
   return res
   ```
   - 返回所有组合路径 `res`。

### 时间复杂度和空间复杂度分析
- **时间复杂度**：`O(N^T)`，其中 `N` 是候选数组的长度，`T` 是目标值 `target`。最坏情况下，搜索树的深度为 `T`，每层最多有 `N` 个分支。
- **空间复杂度**：`O(T)`，用于存储递归调用栈的深度。

### 关键概念
- **回溯法**：通过不断尝试不同的组合来找到所有符合要求的路径。
- **剪枝条件**：当总和超过目标值时，直接返回，避免不必要的计算。

### 提示
- 通过 `cur.copy()` 来存储当前组合路径，防止回溯时原组合路径被修改。

### 警告
- 当候选数组 `nums` 为空时，应直接返回 `[]`。
- 目标值 `target` 小于 `0` 时，无需继续递归。

### 五个类似的 LeetCode 问题
1. [LeetCode 40: 组合总和 II (Combination Sum II)](https://leetcode.com/problems/combination-sum-ii/)
2. [LeetCode 216: 组合总和 III (Combination Sum III)](https://leetcode.com/problems/combination-sum-iii/)
3. [LeetCode 377: 组合总和 IV (Combination Sum IV)](https://leetcode.com/problems/combination-sum-iv/)
4. [LeetCode 78: 子集 (Subsets)](https://leetcode.com/problems/subsets/)
5. [LeetCode 90: 子集 II (Subsets II)](https://leetcode.com/problems/subsets-ii/)

### 改进方案
#### 解法 1：动态规划
可以使用动态规划来解决类似的组合总和问题，将每个子问题的解存储在数组中，减少重复计算。

#### 解法 2：剪枝优化
在递归过程中，如果 `nums[i]` 已经大于 `target`，可以提前剪枝，避免不必要的递归。
