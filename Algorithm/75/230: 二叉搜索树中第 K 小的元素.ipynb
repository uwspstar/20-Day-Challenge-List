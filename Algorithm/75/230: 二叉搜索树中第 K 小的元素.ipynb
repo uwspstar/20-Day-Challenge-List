### LeetCode 230: 二叉搜索树中第 K 小的元素 (Kth Smallest Element in a BST)

#### 问题描述
给定一个二叉搜索树（BST），编写一个函数 `kthSmallest` 来查找其中第 `k` 小的元素。

**示例：**
```plaintext
输入：root = [3,1,4,null,2], k = 1
输出：1
解释：树的中序遍历结果是 [1, 2, 3, 4]，第 1 小的元素是 1。
```

#### 思路
为了在二叉搜索树中查找第 `k` 小的元素，我们可以利用二叉搜索树的中序遍历特性：
- 在二叉搜索树中，中序遍历的结果是一个从小到大的有序数组。
- 因此，找到第 `k` 小的元素，就相当于中序遍历时数到第 `k` 个节点。

具体步骤如下：
1. 使用栈 `stk` 来模拟递归的中序遍历，首先将当前节点的所有左子节点依次压入栈中。
2. 逐个弹出栈顶节点，并将 `k` 减 1。
3. 当 `k` 减到 0 时，说明当前节点就是第 `k` 小的节点，直接返回该节点的值。
4. 如果当前节点有右子节点，则将右子节点及其所有左子节点压入栈中，继续中序遍历。

### 实现代码
```python
from typing import Optional

# 定义二叉树节点类
class TreeNode:
    def __init__(self, val=0, left=None, right=None):
        self.val = val
        self.left = left  # 左子节点
        self.right = right  # 右子节点

class Solution:
    def kthSmallest(self, root: Optional[TreeNode], k: int) -> int:
        # 初始化栈用于模拟递归
        stk = []
        # 当前节点指针初始化为根节点
        cur = root

        # 当栈不为空或者当前节点不为空时继续遍历
        while stk or cur:
            # 将当前节点及其所有左子节点压入栈中
            while cur:
                stk.append(cur)
                cur = cur.left

            # 弹出栈顶节点（最左边的节点）
            cur = stk.pop()
            # 计数器 k 减 1
            k -= 1
            # 如果 k == 0，说明当前节点是第 k 小的节点
            if k == 0:
                return cur.val

            # 进入右子树继续遍历
            cur = cur.right
```

### 逐行解释
1. **初始化栈 `stk` 和当前节点 `cur`**：
   ```python
   stk = []
   cur = root
   ```
   - 栈 `stk` 用于模拟递归调用，保存节点指针。
   - 当前节点指针 `cur` 初始化为 `root` 节点。

2. **循环遍历所有节点**：
   ```python
   while stk or cur:
   ```
   - 当栈 `stk` 不为空或者 `cur` 不为空时，继续遍历二叉树中的节点。

3. **将当前节点及其所有左子节点压入栈中**：
   ```python
   while cur:
       stk.append(cur)
       cur = cur.left
   ```
   - 从当前节点 `cur` 开始，将其所有左子节点依次压入栈 `stk` 中，直到最左边的叶子节点为止。

4. **弹出栈顶节点，并检查 `k`**：
   ```python
   cur = stk.pop()
   k -= 1
   if k == 0:
       return cur.val
   ```
   - 弹出栈顶节点（即当前最左边的节点）。
   - 将 `k` 减 1，如果 `k` 变为 0，说明当前节点就是第 `k` 小的节点，返回该节点的值。

5. **进入右子树继续遍历**：
   ```python
   cur = cur.right
   ```
   - 进入当前节点的右子树，继续遍历。

### 时间复杂度和空间复杂度分析
- **时间复杂度**：`O(H + k)`，其中 `H` 是树的高度，`k` 是需要找到的第 `k` 个元素。最坏情况下，我们可能需要遍历树的所有节点，但大多数情况下，我们只需遍历 `k` 个节点即可。
- **空间复杂度**：`O(H)`，栈 `stk` 的空间消耗取决于树的高度 `H`，在最坏情况下（完全不平衡树）需要 `O(H)` 的空间。

### 关键概念
- **中序遍历**：利用中序遍历的性质，可以快速查找到第 `k` 小的元素。
- **栈的模拟**：使用栈来模拟递归的中序遍历，避免了实际递归的额外栈空间消耗。

### 提示
- 中序遍历是先遍历左子树，再访问根节点，最后遍历右子树。中序遍历的结果是一个递增的有序数组。
- 使用栈来保存中序遍历的节点，避免了递归带来的函数调用栈的开销。

### 警告
- 如果 `k` 大于树中节点的数量，应当返回 `None` 或抛出异常。
- 如果 `root` 为空（即空树），直接返回 `None` 或抛出异常。

### 五个类似的 LeetCode 问题
1. [LeetCode 98: 验证二叉搜索树 (Validate Binary Search Tree)](https://leetcode.com/problems/validate-binary-search-tree/)
2. [LeetCode 94: 二叉树的中序遍历 (Binary Tree Inorder Traversal)](https://leetcode.com/problems/binary-tree-inorder-traversal/)
3. [LeetCode 236: 二叉树的最近公共祖先 (Lowest Common Ancestor of a Binary Tree)](https://leetcode.com/problems/lowest-common-ancestor-of-a-binary-tree/)
4. [LeetCode 450: 删除二叉搜索树中的节点 (Delete Node in a BST)](https://leetcode.com/problems/delete-node-in-a-bst/)
5. [LeetCode 108: 将有序数组转换为二叉搜索树 (Convert Sorted Array to Binary Search Tree)](https://leetcode.com/problems/convert-sorted-array-to-binary-search-tree/)

### 改进方案
#### 解法 1：递归法
可以使用递归来实现中序遍历，从而找到第 `k` 小的元素：
```python
class Solution:
    def kthSmallest(self, root: Optional[TreeNode], k: int) -> int:
        # 定义一个递归生成器
        def inorder_traverse(node):
            if node:
                yield from inorder_traverse(node.left)  # 遍历左子树
                yield node.val                          # 访问当前节点
                yield from inorder_traverse(node.right) # 遍历右子树

        # 获取第 k 小的元素
        gen = inorder_traverse(root)
        for _ in range(k):
            res = next(gen)
        return res
```
- **时间复杂度**：`O(H + k)`
- **空间复杂度**：`O(H)`，递归调用栈的空间消耗取决于树的高度 `H`。
